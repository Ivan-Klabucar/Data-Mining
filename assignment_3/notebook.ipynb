{
 "cells": [
  {
   "cell_type": "code",
   "execution_count": 1,
   "metadata": {},
   "outputs": [],
   "source": [
    "%load_ext autoreload\n",
    "%autoreload 2"
   ]
  },
  {
   "cell_type": "code",
   "execution_count": 2,
   "metadata": {},
   "outputs": [],
   "source": [
    "import numpy as np\n",
    "from functions import *"
   ]
  },
  {
   "cell_type": "code",
   "execution_count": 17,
   "metadata": {},
   "outputs": [],
   "source": [
    "filename = \"web-NotreDame.txt\"\n",
    "#filename = \"p2p-Gnutella08.txt\"\n",
    "data = np.genfromtxt(\"./data/\" + filename, dtype='int')"
   ]
  },
  {
   "cell_type": "code",
   "execution_count": 18,
   "metadata": {},
   "outputs": [],
   "source": [
    "# we need an inverted graph for the algorithm so instead of saving V -> W we store V <- W\n",
    "V, E = set(), dict()\n",
    "for (v, w) in data:\n",
    "    if w not in E:\n",
    "        E[w] = set()\n",
    "    E[w].add(v)\n",
    "    V.add(v)\n",
    "    V.add(w)\n",
    "graph = V, E"
   ]
  },
  {
   "cell_type": "code",
   "execution_count": 19,
   "metadata": {},
   "outputs": [
    {
     "name": "stdout",
     "output_type": "stream",
     "text": [
      "iteration: 1, changed counters: 309770\n",
      "iteration: 2, changed counters: 283641\n",
      "iteration: 3, changed counters: 256380\n",
      "iteration: 4, changed counters: 222641\n",
      "iteration: 5, changed counters: 218682\n",
      "iteration: 6, changed counters: 185621\n",
      "iteration: 7, changed counters: 173060\n",
      "iteration: 8, changed counters: 155341\n",
      "iteration: 9, changed counters: 137703\n",
      "iteration: 10, changed counters: 128704\n",
      "iteration: 11, changed counters: 105674\n",
      "iteration: 12, changed counters: 95275\n",
      "iteration: 13, changed counters: 97822\n",
      "iteration: 14, changed counters: 82460\n",
      "iteration: 15, changed counters: 62919\n",
      "iteration: 16, changed counters: 63006\n",
      "iteration: 17, changed counters: 62652\n",
      "iteration: 18, changed counters: 56999\n",
      "iteration: 19, changed counters: 53703\n",
      "iteration: 20, changed counters: 47983\n",
      "iteration: 21, changed counters: 45217\n",
      "iteration: 22, changed counters: 38039\n",
      "iteration: 23, changed counters: 39294\n",
      "iteration: 24, changed counters: 34759\n",
      "iteration: 25, changed counters: 27708\n",
      "iteration: 26, changed counters: 26270\n",
      "iteration: 27, changed counters: 32166\n",
      "iteration: 28, changed counters: 32431\n",
      "iteration: 29, changed counters: 36321\n",
      "iteration: 30, changed counters: 34672\n",
      "iteration: 31, changed counters: 32895\n",
      "iteration: 32, changed counters: 23392\n",
      "iteration: 33, changed counters: 16412\n",
      "iteration: 34, changed counters: 14538\n",
      "iteration: 35, changed counters: 11395\n",
      "iteration: 36, changed counters: 12487\n",
      "iteration: 37, changed counters: 10525\n",
      "iteration: 38, changed counters: 11075\n",
      "iteration: 39, changed counters: 10582\n",
      "iteration: 40, changed counters: 10333\n",
      "iteration: 41, changed counters: 7323\n",
      "iteration: 42, changed counters: 7453\n",
      "iteration: 43, changed counters: 8122\n",
      "iteration: 44, changed counters: 11376\n",
      "iteration: 45, changed counters: 8148\n",
      "iteration: 46, changed counters: 11403\n",
      "iteration: 47, changed counters: 6771\n",
      "iteration: 48, changed counters: 6531\n",
      "iteration: 49, changed counters: 6701\n",
      "iteration: 50, changed counters: 6339\n",
      "iteration: 51, changed counters: 6587\n",
      "iteration: 52, changed counters: 5484\n",
      "iteration: 53, changed counters: 5304\n",
      "iteration: 54, changed counters: 5295\n",
      "iteration: 55, changed counters: 5264\n",
      "iteration: 56, changed counters: 5273\n",
      "iteration: 57, changed counters: 5198\n",
      "iteration: 58, changed counters: 5284\n",
      "iteration: 59, changed counters: 5202\n",
      "iteration: 60, changed counters: 5191\n",
      "iteration: 61, changed counters: 5272\n",
      "iteration: 62, changed counters: 5565\n",
      "iteration: 63, changed counters: 5247\n",
      "iteration: 64, changed counters: 5216\n",
      "iteration: 65, changed counters: 5194\n",
      "iteration: 66, changed counters: 5182\n",
      "iteration: 67, changed counters: 5224\n",
      "iteration: 68, changed counters: 5183\n",
      "iteration: 69, changed counters: 5194\n",
      "iteration: 70, changed counters: 5210\n",
      "iteration: 71, changed counters: 5187\n",
      "iteration: 72, changed counters: 5207\n",
      "iteration: 73, changed counters: 5224\n",
      "iteration: 74, changed counters: 5194\n",
      "iteration: 75, changed counters: 5171\n",
      "iteration: 76, changed counters: 5232\n",
      "iteration: 77, changed counters: 5180\n",
      "iteration: 78, changed counters: 5171\n",
      "iteration: 79, changed counters: 5219\n",
      "iteration: 80, changed counters: 5191\n",
      "iteration: 81, changed counters: 5184\n",
      "iteration: 82, changed counters: 5208\n",
      "iteration: 83, changed counters: 5204\n",
      "iteration: 84, changed counters: 5171\n",
      "iteration: 85, changed counters: 5210\n",
      "iteration: 86, changed counters: 5190\n",
      "iteration: 87, changed counters: 5181\n",
      "iteration: 88, changed counters: 5220\n"
     ]
    }
   ],
   "source": [
    "ball = Hyperball()\n",
    "ball.reset()\n",
    "result = ball.run(graph, centrality='h')"
   ]
  }
 ],
 "metadata": {
  "interpreter": {
   "hash": "649bda913235f04b247e7eca01442617226b67bc46237c5f911a4562634b207d"
  },
  "kernelspec": {
   "display_name": "Python 3.8.5 64-bit ('base': conda)",
   "language": "python",
   "name": "python3"
  },
  "language_info": {
   "codemirror_mode": {
    "name": "ipython",
    "version": 3
   },
   "file_extension": ".py",
   "mimetype": "text/x-python",
   "name": "python",
   "nbconvert_exporter": "python",
   "pygments_lexer": "ipython3",
   "version": "3.8.5"
  },
  "orig_nbformat": 4
 },
 "nbformat": 4,
 "nbformat_minor": 2
}
